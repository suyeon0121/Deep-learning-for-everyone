{
 "cells": [
  {
   "cell_type": "markdown",
   "metadata": {},
   "source": [
    "# 폐암 수술 환자의 생존율 예측"
   ]
  },
  {
   "cell_type": "code",
   "execution_count": 1,
   "metadata": {},
   "outputs": [],
   "source": [
    "# 텐서플로 라이브러리 안에 있는 케라스 API에서 필요한 함수들을 불러옴\n",
    "from tensorflow.keras.models import Sequential             \n",
    "from tensorflow.keras.layers import Dense     \n",
    "\n",
    "# 데이터를 다루는 데 필요한 라이브러리를 불러옴\n",
    "import numpy as np "
   ]
  },
  {
   "cell_type": "code",
   "execution_count": 2,
   "metadata": {},
   "outputs": [],
   "source": [
    "# 준비된 수술 환자 데이터를 불러온다\n",
    "Data_set = np.loadtxt('./data/ThoraricSurgery3.csv', delimiter=\",\")   \n",
    "\n",
    "# X 대문자 : 입력 값(행은 개별 샘플, 열은 해당 샘플의 특성) / 보통 2차원 배열 또는 행렬\n",
    "# y 소문자 : 출력 또는 타겟 값 / 보통 1차원 매열 또는 벡터\n",
    "\n",
    "X = Data_set[:,0:16]                # 환자의 진찰 기록을 x로 지정                                  \n",
    "y = Data_set[:,16]                  # 수술 1년 후 사망/생존 여부를 y로 지정"
   ]
  },
  {
   "cell_type": "code",
   "execution_count": 3,
   "metadata": {},
   "outputs": [],
   "source": [
    "# 딥러닝 모델의 구조를 결정\n",
    "model = Sequential()  \n",
    "model.add(Dense(30, input_dim=16, activation='relu'))       # 첫번째 Dense가 은닉층 + 입력층의 역할을 겸함\n",
    "                                                            # 데이터에서 값을 16개 받아 은닉층의 노드 30개로 보낸다\n",
    "model.add(Dense(1, activation='sigmoid'))                   # 출력층"
   ]
  },
  {
   "cell_type": "code",
   "execution_count": 4,
   "metadata": {},
   "outputs": [
    {
     "name": "stdout",
     "output_type": "stream",
     "text": [
      "Epoch 1/5\n",
      "30/30 [==============================] - 1s 1ms/step - loss: 3.4314 - accuracy: 0.2787\n",
      "Epoch 2/5\n",
      "30/30 [==============================] - 0s 1ms/step - loss: 0.6628 - accuracy: 0.8277\n",
      "Epoch 3/5\n",
      "30/30 [==============================] - 0s 1ms/step - loss: 0.5131 - accuracy: 0.8362\n",
      "Epoch 4/5\n",
      "30/30 [==============================] - 0s 1ms/step - loss: 0.4571 - accuracy: 0.8489\n",
      "Epoch 5/5\n",
      "30/30 [==============================] - 0s 827us/step - loss: 0.4532 - accuracy: 0.8511\n"
     ]
    }
   ],
   "source": [
    "# 딥러닝 모델을 실행\n",
    "model.compile(loss='binary_crossentropy', optimizer='adam', metrics=['accuracy'])  \n",
    "history = model.fit(X, y, epochs=5, batch_size=16)"
   ]
  }
 ],
 "metadata": {
  "kernelspec": {
   "display_name": "Python 3",
   "language": "python",
   "name": "python3"
  },
  "language_info": {
   "codemirror_mode": {
    "name": "ipython",
    "version": 3
   },
   "file_extension": ".py",
   "mimetype": "text/x-python",
   "name": "python",
   "nbconvert_exporter": "python",
   "pygments_lexer": "ipython3",
   "version": "3.9.13"
  },
  "orig_nbformat": 4
 },
 "nbformat": 4,
 "nbformat_minor": 2
}

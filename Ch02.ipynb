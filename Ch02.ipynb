{
 "cells": [
  {
   "cell_type": "markdown",
   "metadata": {},
   "source": [
    "## '10장 폐암 수술 환자의 생존율 예측' 코드 미리보기"
   ]
  },
  {
   "cell_type": "code",
   "execution_count": 1,
   "metadata": {},
   "outputs": [],
   "source": [
    "from tensorflow.keras.models import Sequential              # keras API에 있는 model 클래스에서 Sequential 함수 호출\n",
    "from tensorflow.keras.layers import Dense                   # keras API에 있는 layers 클래스에서 Dense 함수 호출\n",
    "import numpy as np                                          # 라이브러리명이 길거나 같은 이름이 있을 경우 numpy 라이브러리를 np라는 짧은 이름으로 호출"
   ]
  },
  {
   "cell_type": "code",
   "execution_count": 2,
   "metadata": {},
   "outputs": [],
   "source": [
    "Data_set = np.loadtxt('./data/ThoraricSurgery3.csv', delimiter=\",\")             # Data_set 변수 / loadtxt -> 파일 읽어오는 함수 / delimiter 구분자\n",
    "X = Data_set[:,0:16]                                        # 쉼표 기준으로 앞은 행, 뒤는 열 -> 모든 행부터 1번째 열부터 16번째 열까지 / 상수(대문자)\n",
    "y = Data_set[:,16]                                          # 17번째 값을 추출 / 변수(소문자)  "
   ]
  },
  {
   "cell_type": "code",
   "execution_count": 3,
   "metadata": {},
   "outputs": [],
   "source": [
    "model = Sequential()                                        # 입력층 : Sequential()함수를 model로 선언\n",
    "model.add(Dense(30, input_dim=16, activation='relu'))       # 은닉층 : Dense(30의 노드), input_dim(폐암환자 생존여부 데이터 17개를 노드로 보냄), activation(활성화 함수)='relu'(기울기소실v, 속도 ^)\n",
    "model.add(Dense(1, activation='sigmoid'))                   # 출력층 : 노드 1개 -> 출력 값 1개(0, 1), sigmoid 활성화 함수 "
   ]
  },
  {
   "cell_type": "code",
   "execution_count": 4,
   "metadata": {},
   "outputs": [
    {
     "name": "stdout",
     "output_type": "stream",
     "text": [
      "Epoch 1/5\n",
      "30/30 [==============================] - 0s 1ms/step - loss: 0.4513 - accuracy: 0.8511\n",
      "Epoch 2/5\n",
      "30/30 [==============================] - 0s 1ms/step - loss: 0.4356 - accuracy: 0.8511\n",
      "Epoch 3/5\n",
      "30/30 [==============================] - 0s 1ms/step - loss: 0.4308 - accuracy: 0.8511\n",
      "Epoch 4/5\n",
      "30/30 [==============================] - 0s 1ms/step - loss: 0.4275 - accuracy: 0.8511\n",
      "Epoch 5/5\n",
      "30/30 [==============================] - 0s 1ms/step - loss: 0.4151 - accuracy: 0.8511\n"
     ]
    }
   ],
   "source": [
    "model.compile(loss='binary_crossentropy', optimizer='adam', metrics=['accuracy'])   # loss : 손실함수 , optimizer : 최적화 방법, metrics : 정확도\n",
    "history = model.fit(X, y, epochs=5, batch_size=16)"
   ]
  }
 ],
 "metadata": {
  "kernelspec": {
   "display_name": "Python 3",
   "language": "python",
   "name": "python3"
  },
  "language_info": {
   "codemirror_mode": {
    "name": "ipython",
    "version": 3
   },
   "file_extension": ".py",
   "mimetype": "text/x-python",
   "name": "python",
   "nbconvert_exporter": "python",
   "pygments_lexer": "ipython3",
   "version": "3.9.13"
  },
  "orig_nbformat": 4
 },
 "nbformat": 4,
 "nbformat_minor": 2
}
